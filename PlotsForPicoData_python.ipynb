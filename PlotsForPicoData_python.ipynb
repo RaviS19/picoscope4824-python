{
 "cells": [
  {
   "cell_type": "markdown",
   "metadata": {},
   "source": [
    "# Notebook to plot and view picoscope data"
   ]
  },
  {
   "cell_type": "code",
   "execution_count": null,
   "metadata": {},
   "outputs": [],
   "source": [
    "import glob\n",
    "import numpy as np\n",
    "import os\n",
    "import matplotlib.pyplot as plt\n",
    "from sklearn import preprocessing\n"
   ]
  },
  {
   "cell_type": "markdown",
   "metadata": {},
   "source": [
    "### Transfer peaks.txt to a separate folder"
   ]
  },
  {
   "cell_type": "code",
   "execution_count": null,
   "metadata": {},
   "outputs": [],
   "source": [
    "from time import sleep\n",
    "import shutil\n",
    "folders_ID = [] # Input data\n",
    "folders_PD = [] # Peaks data\n",
    "par_path = \"C:\\\\Users\\\\ojo96212\\\\Desktop\\\\Ravi\\\\PicoData\\\\Na22\\\\\"\n",
    "os.chdir(par_path)\n",
    "par_dir = glob.glob(\"Set_*\")\n",
    "#Transfer input_data.txt and peaks.txt from data processed folder to peaksFolder\n",
    "for p in par_dir:\n",
    "    os.chdir(os.path.join(par_path,p))\n",
    "    f = glob.glob(\"PicoData_pos1_01_12_2022_*\");\n",
    "    for path in f:\n",
    "        fullPath_PD = os.path.join(par_path,p,path,\"Data_processed\",\"peaks_2mV.txt\")\n",
    "        folders_PD.append(fullPath_PD)\n",
    "        fullPath_ID = os.path.join(par_path,p,path,\"input_data.txt\")\n",
    "        folders_ID.append(fullPath_ID)\n",
    "        \n",
    "os.chdir(par_path)\n",
    "peakDir = os.path.join(par_path,'peaksFolder');\n",
    "if not os.path.exists(peakDir):\n",
    "    os.mkdir(peakDir)\n",
    "    os.chdir(peakDir)\n",
    "else:\n",
    "    print('Path exists')\n",
    "    os.chdir(peakDir)\n",
    "while True:\n",
    "    try:\n",
    "        for i in range(len(folders_PD)):\n",
    "            newPath = os.path.join(peakDir,folders_PD[i].split(\"Data_processed\\peaks_2mV.txt\")[0].split(\"\\\\\")[-2])\n",
    "            #newPath_ID = os.path.join(peakDir,f.split(\",\")[0].split(\"\\\\\")[-1])\n",
    "            if not os.path.exists(newPath):\n",
    "                os.mkdir(newPath)\n",
    "            else:\n",
    "                pass\n",
    "            \n",
    "            if not os.path.exists(os.path.join(newPath,'input_data.txt')):\n",
    "                shutil.copy(folders_ID[i],os.path.join(newPath,'input_data.txt'))\n",
    "            else:\n",
    "                pass\n",
    "            \n",
    "            if not os.path.exists(os.path.join(newPath,'peaks_2mV.txt')):\n",
    "                shutil.copy(folders_PD[i],os.path.join(newPath,'peaks_2mV.txt'))\n",
    "            else:\n",
    "                pass\n",
    "        break\n",
    "    except:\n",
    "        fold = folders_ID[i].split(\"\\\\\")[-2]\n",
    "        print(f\"Wait for {fold} to complete processing\")\n",
    "        sleep(30)\n",
    "print(\"Done\")"
   ]
  },
  {
   "cell_type": "markdown",
   "metadata": {},
   "source": [
    "### Import Na22 data files "
   ]
  },
  {
   "cell_type": "code",
   "execution_count": null,
   "metadata": {},
   "outputs": [],
   "source": [
    "folders = []\n",
    "par_path = \"C:\\\\Users\\\\ojo96212\\\\Desktop\\\\Ravi\\\\PicoData\\\\Na22\\\\peaksFolder\"\n",
    "os.chdir(par_path)\n",
    "par_dir = glob.glob(\"PicoData_pos1_*\")#29_11_2022_12*\")\n",
    "for p in par_dir:\n",
    "    os.chdir(os.path.join(par_path,p))\n",
    "    f = glob.glob(\"peaks_*.txt\");\n",
    "    for path in f:\n",
    "        fullPath = os.path.join(par_path,p,path)\n",
    "        folders.append(fullPath)"
   ]
  },
  {
   "cell_type": "markdown",
   "metadata": {},
   "source": [
    "### Load peak values saved in peaks.txt files"
   ]
  },
  {
   "cell_type": "code",
   "execution_count": null,
   "metadata": {},
   "outputs": [],
   "source": [
    "hist_data={}\n",
    "for f in folders:\n",
    "    #try:\n",
    "    data = np.loadtxt(f, delimiter = ',');\n",
    "    with open(os.path.join(f.split(\"peaks_2mV.txt\")[0],\"input_data.txt\")) as ifile:\n",
    "        param_in = ifile.read()\n",
    "    tI = int(param_in.split(':')[5].split(\",\")[0])\n",
    "    capT = float(param_in.split(': ')[7].split(\",\")[0])\n",
    "    storeVar = \"Na22_\"+str(tI)+\"_\"+str(int(capT*1000)) #Na22_timeInterval(in ns)_captureTime(ms)\n",
    "    if not storeVar in hist_data:\n",
    "        #print('No key')\n",
    "        hist_data[storeVar] = []\n",
    "    else:\n",
    "        #print('Key exists')\n",
    "        hist_data[storeVar] = np.append(hist_data[storeVar], data)"
   ]
  },
  {
   "cell_type": "markdown",
   "metadata": {},
   "source": [
    "### Plot Na22 peaks histogram"
   ]
  },
  {
   "cell_type": "code",
   "execution_count": null,
   "metadata": {},
   "outputs": [],
   "source": [
    "bins = 150\n",
    "alpha = 1\n",
    "density = True"
   ]
  },
  {
   "cell_type": "code",
   "execution_count": null,
   "metadata": {},
   "outputs": [],
   "source": [
    "n = {}\n",
    "bins_data = {}\n",
    "patches = {}\n",
    "colors = ['b', 'g', 'teal', 'r', 'orange', 'm','y']\n",
    "for index, keys in enumerate(hist_data):\n",
    "    plot_data = hist_data[keys]\n",
    "    idx = (plot_data>1)*(plot_data<25)\n",
    "    values = keys.split(\"_\")\n",
    "    fig, ax = plt.subplots(figsize=(5, 5))\n",
    "    n[keys], bins_data[keys], patches[keys] = ax.hist(plot_data[idx],bins = bins, alpha = alpha, color = colors[index], density=density)\n",
    "    plt.title(f\"Na22 plot picoscope \\n\\nSample interval - {values[1]} ns, Sampling time - {values[2]} ms\", weight = 'bold')\n",
    "    plt.xlabel(\"Voltage (mV)\")\n",
    "    plt.ylabel('Counts')\n",
    "    plt.grid(axis = 'both', alpha = 0.6)"
   ]
  }
 ],
 "metadata": {
  "kernelspec": {
   "display_name": "Python 3.9.13 ('base')",
   "language": "python",
   "name": "python3"
  },
  "language_info": {
   "codemirror_mode": {
    "name": "ipython",
    "version": 3
   },
   "file_extension": ".py",
   "mimetype": "text/x-python",
   "name": "python",
   "nbconvert_exporter": "python",
   "pygments_lexer": "ipython3",
   "version": "3.9.13"
  },
  "orig_nbformat": 4,
  "vscode": {
   "interpreter": {
    "hash": "96d078a0da8ad70ad8ad123288aa7fc9e78e718022d364753ca7fb1d42e2011a"
   }
  }
 },
 "nbformat": 4,
 "nbformat_minor": 2
}
